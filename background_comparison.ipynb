{
 "cells": [
  {
   "cell_type": "code",
   "execution_count": 7,
   "metadata": {},
   "outputs": [],
   "source": [
    "import cv2\n",
    "from PIL import Image\n",
    "import numpy as np\n",
    "import os\n",
    "import matplotlib.pyplot as plt"
   ]
  },
  {
   "cell_type": "code",
   "execution_count": 8,
   "metadata": {},
   "outputs": [],
   "source": [
    "def mse(imageA, imageB):\n",
    "\terr = np.sum((np.asarray(imageA) - np.asarray(imageB)) ** 2)\n",
    "\terr /= float(imageA.size[0] * imageA.size[1])\n",
    "\t\n",
    "\treturn err\n"
   ]
  },
  {
   "cell_type": "code",
   "execution_count": 9,
   "metadata": {},
   "outputs": [],
   "source": [
    "def diff_roi(img, coordinates):\n",
    "\n",
    "    img = img.crop(coordinates) # base image\n",
    "\n",
    "    directory = 'frames'\n",
    "\n",
    "    files = np.array([])\n",
    "    errors = np.array([])\n",
    "\n",
    "    for filename in os.listdir(directory):\n",
    "        f = os.path.join(directory, filename)\n",
    "        \n",
    "        curr_image = Image.open(f)\n",
    "        imgcurr_crop = curr_image.crop(coordinates)\n",
    "\n",
    "        err = mse(img, imgcurr_crop)\n",
    "\n",
    "        # print(f\"file {f}, err {err}\")\n",
    "\n",
    "        files = np.append(files, f)\n",
    "        errors = np.append(errors, err)\n",
    "    \n",
    "    return files, errors\n"
   ]
  },
  {
   "cell_type": "markdown",
   "metadata": {},
   "source": [
    "## ROI 1"
   ]
  },
  {
   "cell_type": "code",
   "execution_count": 10,
   "metadata": {},
   "outputs": [],
   "source": [
    "# coordinates\n",
    "roi1_coord = (502, 344, 502+61, 344+86)\n",
    "\n",
    "# base image for comparison\n",
    "image1 = Image.open('frames/frame_6000.jpg')# show base iamge\n",
    "image1.crop(roi1_coord).show()"
   ]
  },
  {
   "cell_type": "code",
   "execution_count": 11,
   "metadata": {},
   "outputs": [],
   "source": [
    "# get mse\n",
    "roi1_f, roi1_e = diff_roi(image1, roi1_coord)"
   ]
  },
  {
   "cell_type": "code",
   "execution_count": 143,
   "metadata": {},
   "outputs": [],
   "source": [
    "# image viewer for roi 1\n",
    "Image.open('frames/frame_10210.jpg').crop(roi1_coord).show()"
   ]
  },
  {
   "cell_type": "code",
   "execution_count": 144,
   "metadata": {},
   "outputs": [
    {
     "name": "stdout",
     "output_type": "stream",
     "text": [
      "frame_10210.jpg 156.81261913839114\n",
      "frame_10173.jpg 156.76725123903927\n",
      "frame_4215.jpg 156.8776210446054\n",
      "frame_10209.jpg 156.54708349218453\n",
      "frame_4221.jpg 156.66717499046894\n",
      "frame_4291.jpg 156.68299656881433\n",
      "frame_4293.jpg 156.6639344262295\n"
     ]
    }
   ],
   "source": [
    "# filter mse\n",
    "for i in range(len(roi1_f)):\n",
    "    if 157 > roi1_e[i] > 156.5:\n",
    "        print(roi1_f[i].split('/')[-1], roi1_e[i])"
   ]
  },
  {
   "cell_type": "code",
   "execution_count": 12,
   "metadata": {},
   "outputs": [
    {
     "data": {
      "text/plain": [
       "(array([  18., 6492.,  542.,  329.,  588.,  712.,  551.,   96., 2735.,\n",
       "        1438.]),\n",
       " array([  0.        ,  23.52310332,  47.04620663,  70.56930995,\n",
       "         94.09241327, 117.61551658, 141.1386199 , 164.66172322,\n",
       "        188.18482653, 211.70792985, 235.23103317]),\n",
       " <BarContainer object of 10 artists>)"
      ]
     },
     "execution_count": 12,
     "metadata": {},
     "output_type": "execute_result"
    },
    {
     "data": {
      "image/png": "[encoded data removed]",
      "text/plain": [
       "<Figure size 640x480 with 1 Axes>"
      ]
     },
     "metadata": {},
     "output_type": "display_data"
    }
   ],
   "source": [
    "# distribution of mse for roi 1\n",
    "plt.hist(roi1_e)"
   ]
  },
  {
   "cell_type": "code",
   "execution_count": 13,
   "metadata": {},
   "outputs": [
    {
     "name": "stdout",
     "output_type": "stream",
     "text": [
      "13501\n",
      "ROI 1 count: 4320\n"
     ]
    }
   ],
   "source": [
    "# chosen threshold\n",
    "threshold_1 = 156.5\n",
    "\n",
    "# find number of frames\n",
    "print(len(roi1_e))\n",
    "c1 = 0\n",
    "for err in roi1_e:\n",
    "    if err > threshold_1:\n",
    "        c1 += 1\n",
    "\n",
    "print(f\"ROI 1 count: {c1}\")"
   ]
  },
  {
   "cell_type": "markdown",
   "metadata": {},
   "source": [
    "## ROI 5"
   ]
  },
  {
   "cell_type": "code",
   "execution_count": 14,
   "metadata": {},
   "outputs": [],
   "source": [
    "# coordinates\n",
    "roi5_coord = (545, 577, 545+81, 577+75)\n",
    "\n",
    "# base image for comparison\n",
    "image5 = Image.open('frames/frame_6000.jpg')# show base iamge\n",
    "image5.crop(roi5_coord).show()"
   ]
  },
  {
   "cell_type": "code",
   "execution_count": null,
   "metadata": {},
   "outputs": [],
   "source": [
    "# get mse\n",
    "roi5_f, roi5_e = diff_roi(image5, roi5_coord)"
   ]
  },
  {
   "cell_type": "code",
   "execution_count": 19,
   "metadata": {},
   "outputs": [],
   "source": [
    "# image viewer for roi 1\n",
    "Image.open('frames/frame_13000.jpg').crop(roi5_coord).show()"
   ]
  },
  {
   "cell_type": "code",
   "execution_count": null,
   "metadata": {},
   "outputs": [],
   "source": []
  }
 ],
 "metadata": {
  "kernelspec": {
   "display_name": "Python 3.9.6 64-bit",
   "language": "python",
   "name": "python3"
  },
  "language_info": {
   "codemirror_mode": {
    "name": "ipython",
    "version": 3
   },
   "file_extension": ".py",
   "mimetype": "text/x-python",
   "name": "python",
   "nbconvert_exporter": "python",
   "pygments_lexer": "ipython3",
   "version": "3.9.6"
  },
  "orig_nbformat": 4,
  "vscode": {
   "interpreter": {
    "hash": "31f2aee4e71d21fbe5cf8b01ff0e069b9275f58929596ceb00d14d90e3e16cd6"
   }
  }
 },
 "nbformat": 4,
 "nbformat_minor": 2
}
